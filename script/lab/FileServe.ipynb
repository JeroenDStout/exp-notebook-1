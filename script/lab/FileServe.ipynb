{
 "cells": [
  {
   "cell_type": "code",
   "execution_count": 1,
   "id": "80fef9fd-9c3c-4bf9-8351-dfe410e7732c",
   "metadata": {},
   "outputs": [
    {
     "name": "stdout",
     "output_type": "stream",
     "text": [
      "Running test\n",
      "Received: Hello world!\n"
     ]
    }
   ],
   "source": [
    "import asyncio\n",
    "import websockets\n",
    "from websockets.sync.client import connect\n",
    "\n",
    "def hello():\n",
    "    print(\"Running test\")\n",
    "    \n",
    "    with connect(\"ws://localhost:9001\") as websocket:\n",
    "        websocket.send(\"Hello world!\")\n",
    "        message = websocket.recv()\n",
    "        print(f\"Received: {message}\")\n",
    "\n",
    "hello()"
   ]
  },
  {
   "cell_type": "code",
   "execution_count": null,
   "id": "a7ed97e2-4523-4702-ba30-4774b6076bdc",
   "metadata": {},
   "outputs": [],
   "source": []
  }
 ],
 "metadata": {
  "jupytext": {
   "formats": "ipynb,auto:percent"
  },
  "kernelspec": {
   "display_name": "Python 3 (ipykernel)",
   "language": "python",
   "name": "python3"
  },
  "language_info": {
   "codemirror_mode": {
    "name": "ipython",
    "version": 3
   },
   "file_extension": ".py",
   "mimetype": "text/x-python",
   "name": "python",
   "nbconvert_exporter": "python",
   "pygments_lexer": "ipython3",
   "version": "3.11.0"
  }
 },
 "nbformat": 4,
 "nbformat_minor": 5
}
